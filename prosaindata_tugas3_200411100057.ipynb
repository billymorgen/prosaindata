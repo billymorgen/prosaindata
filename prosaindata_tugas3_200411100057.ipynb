{
  "nbformat": 4,
  "nbformat_minor": 0,
  "metadata": {
    "colab": {
      "provenance": [],
      "authorship_tag": "ABX9TyOlLxNF4sebRjpmHF2bf5ad",
      "include_colab_link": true
    },
    "kernelspec": {
      "name": "python3",
      "display_name": "Python 3"
    },
    "language_info": {
      "name": "python"
    }
  },
  "cells": [
    {
      "cell_type": "markdown",
      "metadata": {
        "id": "view-in-github",
        "colab_type": "text"
      },
      "source": [
        "<a href=\"https://colab.research.google.com/github/billymorgen/prosaindata/blob/main/prosaindata_tugas3_200411100057.ipynb\" target=\"_parent\"><img src=\"https://colab.research.google.com/assets/colab-badge.svg\" alt=\"Open In Colab\"/></a>"
      ]
    },
    {
      "cell_type": "code",
      "execution_count": null,
      "metadata": {
        "id": "zfVlHnw99UFs"
      },
      "outputs": [],
      "source": [
        "import pyodbc\n",
        "import pandas as pd\n",
        "import psycopg2\n",
        "import mysql.connector\n",
        "import numpy as np\n",
        "\n",
        "connpg = psycopg2.connect(\n",
        "    database=\"prosain200411100057\",\n",
        "    user=\"postgres\",\n",
        "    password=\"123\",\n",
        "    host=\"0.tcp.ap.ngrok.io\",\n",
        "    port=\"19368\"\n",
        ")\n",
        "\n",
        "curpg = connpg.cursor()\n",
        "\n",
        "curpg.execute(\"SELECT sepallegth_057 FROM public.B057_irisdata ORDER BY id\")\n",
        "\n",
        "sl = curpg.fetchall()\n",
        "\n",
        "sl=pd.DataFrame(sl,columns=['SepalLength'])\n",
        "\n",
        "# print(sl)\n",
        "\n",
        "connelp = psycopg2.connect(\n",
        "    database=\"uxdvztyn\",\n",
        "    user=\"uxdvztyn\",\n",
        "    password=\"9sw2SFybuVuHo8p1TSeAsPdxZN_aEaxL\",\n",
        "    host=\"floppy.db.elephantsql.com\",\n",
        "    port=\"5432\"\n",
        ")\n",
        "\n",
        "curelp = connelp.cursor()\n",
        "\n",
        "curelp.execute(\"SELECT sepalwidth_057 FROM b057_irisdata ORDER BY id\")\n",
        "\n",
        "sw = curelp.fetchall()\n",
        "\n",
        "sw=pd.DataFrame(sw,columns=['SepalWidth'])\n",
        "\n",
        "# print(sw)\n",
        "\n",
        "connmy = mysql.connector.connect(\n",
        "    host=\"0.tcp.ap.ngrok.io\",\n",
        "    port=\"17360\",\n",
        "    user=\"root\",\n",
        "    password=\"\",\n",
        "    database=\"prosain2004111000057\"\n",
        ")\n",
        "\n",
        "mycursor = connmy.cursor()\n",
        "\n",
        "mycursor.execute(\"SELECT PetalLength_057 FROM 057_irisdata ORDER BY id;\")\n",
        "\n",
        "myresult = mycursor.fetchall()\n",
        "\n",
        "pl = pd.DataFrame(myresult, columns=['PetalLength',])\n",
        "# print(pl)\n",
        "\n",
        "# \n",
        "\n",
        "cnxn = pyodbc.connect(r'Driver=ODBC Driver 17 for SQL Server;Server=DESKTOP-6A3115C;Database=sainsdata_057;Trusted_Connection=yes;')  \n",
        "cursor = cnxn.cursor()\n",
        "\n",
        "\n",
        "querypw = \"SELECT PetalWidth FROM iris ORDER BY id\"\n",
        "querycl = \"SELECT Class FROM iris ORDER BY id\"\n",
        "\n",
        "cursor.execute(querypw)\n",
        "pw = cursor.fetchall()\n",
        "cursor.execute(querycl)\n",
        "cl = cursor.fetchall()\n",
        "\n",
        "np_pw = np.array(pw)\n",
        "np_cl = np.array(cl)\n",
        "\n",
        "np_pwcls = np.concatenate((np_pw, cl), axis=1)\n",
        "\n",
        "pwcls = pd.DataFrame(np_pwcls, columns=['PetalWidth', 'Class'])\n",
        "pwcls.to_csv(\"pwcls.csv\")\n",
        "df_iris=pd.concat([sl,sw,pl,pwcls],axis=1)\n",
        "\n",
        "print(df_iris.isna().sum())"
      ]
    }
  ]
}